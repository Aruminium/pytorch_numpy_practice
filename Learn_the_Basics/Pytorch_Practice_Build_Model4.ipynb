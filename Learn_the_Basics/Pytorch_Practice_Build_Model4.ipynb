{
  "nbformat": 4,
  "nbformat_minor": 0,
  "metadata": {
    "colab": {
      "name": "Pytorch_Practice_Build Model4.ipynb",
      "provenance": [],
      "authorship_tag": "ABX9TyMKIsg/q5PxxvLLy4AU6b8U",
      "include_colab_link": true
    },
    "kernelspec": {
      "name": "python3",
      "display_name": "Python 3"
    },
    "language_info": {
      "name": "python"
    }
  },
  "cells": [
    {
      "cell_type": "markdown",
      "metadata": {
        "id": "view-in-github",
        "colab_type": "text"
      },
      "source": [
        "<a href=\"https://colab.research.google.com/github/Aruminium/pytorch_numpy_practice/blob/main/Learn_the_Basics/Pytorch_Practice_Build_Model4.ipynb\" target=\"_parent\"><img src=\"https://colab.research.google.com/assets/colab-badge.svg\" alt=\"Open In Colab\"/></a>"
      ]
    },
    {
      "cell_type": "code",
      "execution_count": 1,
      "metadata": {
        "id": "TUWhGq0ULaFk"
      },
      "outputs": [],
      "source": [
        "%matplotlib inline"
      ]
    },
    {
      "cell_type": "code",
      "source": [
        "import os\n",
        "import torch\n",
        "from torch import nn\n",
        "from torch.utils.data import DataLoader\n",
        "from torchvision import datasets, transforms"
      ],
      "metadata": {
        "id": "m2gPx8xIL_aZ"
      },
      "execution_count": 2,
      "outputs": []
    },
    {
      "cell_type": "code",
      "source": [
        "device = \"cuda\" if torch.cuda.is_available() else \"cpu\"\n",
        "print(\"Using {} device\".format(device))"
      ],
      "metadata": {
        "colab": {
          "base_uri": "https://localhost:8080/"
        },
        "id": "CvlZtJyMMNo8",
        "outputId": "1dc9b659-8949-42d3-c655-7d8a22abde1e"
      },
      "execution_count": 3,
      "outputs": [
        {
          "output_type": "stream",
          "name": "stdout",
          "text": [
            "Using cpu device\n"
          ]
        }
      ]
    },
    {
      "cell_type": "code",
      "source": [
        "from torch.nn.modules.container import Sequential\n",
        "class neuralNetwork(nn.Module):\n",
        "    def __init__(self):\n",
        "        super(neuralNetwork, self).__init__()\n",
        "\n",
        "        #nn.Flatten 連続する範囲　テンソル平坦化\n",
        "        self.flatten = nn.Flatten()\n",
        "\n",
        "        #nn.Sequential 生成\n",
        "        self.linear_relu_stack = nn.Sequential(\n",
        "            nn.Linear(28*28, 512),\n",
        "\n",
        "            #nn.ReLU ランプ関数\n",
        "            nn.ReLU(),\n",
        "\n",
        "            #nn.Linear 重回帰分析でいうところの線形結合 nn.Linear(入力次元, 出力次元)\n",
        "            nn.Linear(512, 512),\n",
        "            nn.ReLU(),\n",
        "            nn.Linear(512, 10),\n",
        "            nn.ReLU()\n",
        "        )\n",
        "\n",
        "    def forward(self, x):\n",
        "        x = self.flatten(x)\n",
        "        logits = self.linear_relu_stack(x)\n",
        "        return logits"
      ],
      "metadata": {
        "id": "wPaa3jXOMj-x"
      },
      "execution_count": 10,
      "outputs": []
    },
    {
      "cell_type": "code",
      "source": [
        "model = neuralNetwork().to(device)\n",
        "print(model)"
      ],
      "metadata": {
        "colab": {
          "base_uri": "https://localhost:8080/"
        },
        "id": "9kC3ZBGuO8IJ",
        "outputId": "050ce3dd-6128-43f1-be4b-5122e52c5ab2"
      },
      "execution_count": 11,
      "outputs": [
        {
          "output_type": "stream",
          "name": "stdout",
          "text": [
            "neuralNetwork(\n",
            "  (flatten): Flatten(start_dim=1, end_dim=-1)\n",
            "  (linear_relu_stack): Sequential(\n",
            "    (0): Linear(in_features=784, out_features=512, bias=True)\n",
            "    (1): ReLU()\n",
            "    (2): Linear(in_features=512, out_features=512, bias=True)\n",
            "    (3): ReLU()\n",
            "    (4): Linear(in_features=512, out_features=10, bias=True)\n",
            "    (5): ReLU()\n",
            "  )\n",
            ")\n"
          ]
        }
      ]
    },
    {
      "cell_type": "code",
      "source": [
        "X = torch.rand(1, 28, 28, device=device)\n",
        "logits = model(X)\n",
        "pred_probab = nn.Softmax(dim=1)(logits)\n",
        "y_pred = pred_probab.argmax(1)\n",
        "print(f\"Predicted class: {y_pred}\")"
      ],
      "metadata": {
        "colab": {
          "base_uri": "https://localhost:8080/"
        },
        "id": "SZwt-RaIQCHV",
        "outputId": "56acffca-15b2-474a-df5a-ce150c5f1327"
      },
      "execution_count": 12,
      "outputs": [
        {
          "output_type": "stream",
          "name": "stdout",
          "text": [
            "Predicted class: tensor([3])\n"
          ]
        }
      ]
    },
    {
      "cell_type": "code",
      "source": [
        "input_image = torch.rand(3, 28, 28)\n",
        "print(input_image.size())"
      ],
      "metadata": {
        "colab": {
          "base_uri": "https://localhost:8080/"
        },
        "id": "BLbPRzr-RCfi",
        "outputId": "8c27fea1-4f9f-4b15-beb7-80f772ec480f"
      },
      "execution_count": 13,
      "outputs": [
        {
          "output_type": "stream",
          "name": "stdout",
          "text": [
            "torch.Size([3, 28, 28])\n"
          ]
        }
      ]
    },
    {
      "cell_type": "code",
      "source": [
        "flatten = nn.Flatten()\n",
        "flat_image = flatten(input_image)\n",
        "print(flat_image.size())"
      ],
      "metadata": {
        "colab": {
          "base_uri": "https://localhost:8080/"
        },
        "id": "SZtcZXgrR6vH",
        "outputId": "83bc5b01-34f8-48d5-cf12-c499db3e1635"
      },
      "execution_count": 14,
      "outputs": [
        {
          "output_type": "stream",
          "name": "stdout",
          "text": [
            "torch.Size([3, 784])\n"
          ]
        }
      ]
    },
    {
      "cell_type": "code",
      "source": [
        "layer1 = nn.Linear(in_features=28*28, out_features=20)\n",
        "hidden1 = layer1(flat_image)\n",
        "print(hidden1.size())"
      ],
      "metadata": {
        "colab": {
          "base_uri": "https://localhost:8080/"
        },
        "id": "YBWOxUcYSMwG",
        "outputId": "3576dc52-fc2f-453a-d53a-35f31de69795"
      },
      "execution_count": 20,
      "outputs": [
        {
          "output_type": "stream",
          "name": "stdout",
          "text": [
            "torch.Size([3, 20])\n"
          ]
        }
      ]
    },
    {
      "cell_type": "code",
      "source": [
        "print(f\"Before ReLU: {hidden1}\\n\\n\")\n",
        "hidden1 = nn.ReLU()(hidden1)\n",
        "print(f\"After ReLU: {hidden1}\")"
      ],
      "metadata": {
        "colab": {
          "base_uri": "https://localhost:8080/"
        },
        "id": "ZCaPdUKnS8av",
        "outputId": "3deb8f34-fe28-4dd5-f6b9-9e3f4e8635a4"
      },
      "execution_count": 21,
      "outputs": [
        {
          "output_type": "stream",
          "name": "stdout",
          "text": [
            "Before ReLU: tensor([[ 0.0496,  0.0682,  0.2977,  0.1780, -0.0362,  0.1955, -0.4237,  0.0232,\n",
            "         -0.8443, -0.3717, -0.5431,  0.2736, -0.1475,  0.1415, -0.0155,  0.7094,\n",
            "         -0.1951,  0.8501,  0.0225,  0.2351],\n",
            "        [-0.0654,  0.3063,  0.2873,  0.0651, -0.1527,  0.1032, -0.4882,  0.4153,\n",
            "         -0.8115, -0.6088, -0.3871,  0.5848, -0.1153,  0.1548,  0.0601,  0.2696,\n",
            "         -0.1765,  0.6243, -0.0609,  0.0727],\n",
            "        [-0.0515,  0.1882,  0.2714,  0.1808,  0.0132,  0.2855, -0.6788,  0.0735,\n",
            "         -0.3559, -0.7573, -0.4962,  0.5529, -0.6156, -0.1979, -0.0584,  0.0257,\n",
            "         -0.0213,  0.5505, -0.0304, -0.1081]], grad_fn=<AddmmBackward0>)\n",
            "\n",
            "\n",
            "After ReLU: tensor([[0.0496, 0.0682, 0.2977, 0.1780, 0.0000, 0.1955, 0.0000, 0.0232, 0.0000,\n",
            "         0.0000, 0.0000, 0.2736, 0.0000, 0.1415, 0.0000, 0.7094, 0.0000, 0.8501,\n",
            "         0.0225, 0.2351],\n",
            "        [0.0000, 0.3063, 0.2873, 0.0651, 0.0000, 0.1032, 0.0000, 0.4153, 0.0000,\n",
            "         0.0000, 0.0000, 0.5848, 0.0000, 0.1548, 0.0601, 0.2696, 0.0000, 0.6243,\n",
            "         0.0000, 0.0727],\n",
            "        [0.0000, 0.1882, 0.2714, 0.1808, 0.0132, 0.2855, 0.0000, 0.0735, 0.0000,\n",
            "         0.0000, 0.0000, 0.5529, 0.0000, 0.0000, 0.0000, 0.0257, 0.0000, 0.5505,\n",
            "         0.0000, 0.0000]], grad_fn=<ReluBackward0>)\n"
          ]
        }
      ]
    },
    {
      "cell_type": "code",
      "source": [
        "seq_modules = nn.Sequential(\n",
        "    flatten,\n",
        "    layer1,\n",
        "    nn.ReLU(),\n",
        "    nn.Linear(20, 10)\n",
        ")\n",
        "input_image = torch.rand(3, 28, 28)\n",
        "logits = seq_modules(input_image)"
      ],
      "metadata": {
        "id": "rX7FMx6_TSiY"
      },
      "execution_count": 22,
      "outputs": []
    },
    {
      "cell_type": "code",
      "source": [
        "#dimは次元数\n",
        "softmax = nn.Softmax(dim=1)\n",
        "pred_probab = softmax(logits)"
      ],
      "metadata": {
        "id": "M4gFkHEIUhs2"
      },
      "execution_count": 23,
      "outputs": []
    },
    {
      "cell_type": "code",
      "source": [
        "print(\"Model structure: \", model, \"\\n\\n\")\n",
        "\n",
        "for name, param in model.named_parameters():\n",
        "    print(f\"Layer: {name} | Size: {param.size()} | Values : {param[:2]} \\n\")"
      ],
      "metadata": {
        "colab": {
          "base_uri": "https://localhost:8080/"
        },
        "id": "CJHFSJuLUzVk",
        "outputId": "4243a0b6-97ce-4a5d-bfe9-26d8a704783d"
      },
      "execution_count": 24,
      "outputs": [
        {
          "output_type": "stream",
          "name": "stdout",
          "text": [
            "Model structure:  neuralNetwork(\n",
            "  (flatten): Flatten(start_dim=1, end_dim=-1)\n",
            "  (linear_relu_stack): Sequential(\n",
            "    (0): Linear(in_features=784, out_features=512, bias=True)\n",
            "    (1): ReLU()\n",
            "    (2): Linear(in_features=512, out_features=512, bias=True)\n",
            "    (3): ReLU()\n",
            "    (4): Linear(in_features=512, out_features=10, bias=True)\n",
            "    (5): ReLU()\n",
            "  )\n",
            ") \n",
            "\n",
            "\n",
            "Layer: linear_relu_stack.0.weight | Size: torch.Size([512, 784]) | Values : tensor([[ 0.0208, -0.0316, -0.0262,  ..., -0.0284, -0.0027, -0.0149],\n",
            "        [ 0.0201,  0.0235, -0.0014,  ..., -0.0065,  0.0195, -0.0214]],\n",
            "       grad_fn=<SliceBackward0>) \n",
            "\n",
            "Layer: linear_relu_stack.0.bias | Size: torch.Size([512]) | Values : tensor([-0.0024,  0.0253], grad_fn=<SliceBackward0>) \n",
            "\n",
            "Layer: linear_relu_stack.2.weight | Size: torch.Size([512, 512]) | Values : tensor([[ 0.0382,  0.0150,  0.0219,  ..., -0.0318, -0.0353, -0.0127],\n",
            "        [ 0.0440, -0.0236,  0.0081,  ...,  0.0420, -0.0052,  0.0292]],\n",
            "       grad_fn=<SliceBackward0>) \n",
            "\n",
            "Layer: linear_relu_stack.2.bias | Size: torch.Size([512]) | Values : tensor([0.0323, 0.0206], grad_fn=<SliceBackward0>) \n",
            "\n",
            "Layer: linear_relu_stack.4.weight | Size: torch.Size([10, 512]) | Values : tensor([[ 0.0195,  0.0404, -0.0383,  ..., -0.0343, -0.0133, -0.0162],\n",
            "        [-0.0194,  0.0075, -0.0159,  ..., -0.0078, -0.0087, -0.0033]],\n",
            "       grad_fn=<SliceBackward0>) \n",
            "\n",
            "Layer: linear_relu_stack.4.bias | Size: torch.Size([10]) | Values : tensor([-0.0113,  0.0045], grad_fn=<SliceBackward0>) \n",
            "\n"
          ]
        }
      ]
    },
    {
      "cell_type": "code",
      "source": [
        ""
      ],
      "metadata": {
        "id": "BskKaTuKVe4j"
      },
      "execution_count": null,
      "outputs": []
    }
  ]
}