{
  "nbformat": 4,
  "nbformat_minor": 0,
  "metadata": {
    "colab": {
      "name": "WHAT_IS_PYTORCH1.ipynb",
      "provenance": [],
      "authorship_tag": "ABX9TyN0VqU/dqVTo+uH2Mc9QmIh"
    },
    "kernelspec": {
      "name": "python3",
      "display_name": "Python 3"
    },
    "language_info": {
      "name": "python"
    },
    "accelerator": "GPU"
  },
  "cells": [
    {
      "cell_type": "code",
      "execution_count": 1,
      "metadata": {
        "id": "kO3y2_urpQ46"
      },
      "outputs": [],
      "source": [
        "%matplotlib inline"
      ]
    },
    {
      "cell_type": "code",
      "source": [
        "from __future__ import print_function\n",
        "import torch"
      ],
      "metadata": {
        "id": "614hnn8Mpdq_"
      },
      "execution_count": 4,
      "outputs": []
    },
    {
      "cell_type": "code",
      "source": [
        "x = torch.empty(5, 3)\n",
        "print(x)"
      ],
      "metadata": {
        "colab": {
          "base_uri": "https://localhost:8080/"
        },
        "id": "7YkpSHOopkGq",
        "outputId": "c130b531-201d-4ad0-b80b-27982fdfbad1"
      },
      "execution_count": 5,
      "outputs": [
        {
          "output_type": "stream",
          "name": "stdout",
          "text": [
            "tensor([[-1.1635e+30,  3.0774e-41,  3.3631e-44],\n",
            "        [ 0.0000e+00,         nan,  4.4842e-44],\n",
            "        [ 1.1578e+27,  1.1362e+30,  7.1547e+22],\n",
            "        [ 4.5828e+30,  1.2121e+04,  7.1846e+22],\n",
            "        [ 9.2198e-39,  7.0374e+22,  0.0000e+00]])\n"
          ]
        }
      ]
    },
    {
      "cell_type": "code",
      "source": [
        "x = torch.rand(5, 3)\n",
        "print(x)"
      ],
      "metadata": {
        "colab": {
          "base_uri": "https://localhost:8080/"
        },
        "id": "iRx-jWDlpqmP",
        "outputId": "6f9d7129-d59a-4bfd-d62d-5297eb5bf052"
      },
      "execution_count": 6,
      "outputs": [
        {
          "output_type": "stream",
          "name": "stdout",
          "text": [
            "tensor([[0.0233, 0.6443, 0.7537],\n",
            "        [0.8475, 0.8661, 0.9887],\n",
            "        [0.9136, 0.3410, 0.3878],\n",
            "        [0.0499, 0.5434, 0.0494],\n",
            "        [0.7021, 0.6462, 0.7768]])\n"
          ]
        }
      ]
    },
    {
      "cell_type": "code",
      "source": [
        "x = torch.zeros(5, 3, dtype=torch.long)\n",
        "print(x)"
      ],
      "metadata": {
        "colab": {
          "base_uri": "https://localhost:8080/"
        },
        "id": "YZlW9AvIp1QF",
        "outputId": "4762420e-7393-437e-b698-3a1e962487b7"
      },
      "execution_count": 7,
      "outputs": [
        {
          "output_type": "stream",
          "name": "stdout",
          "text": [
            "tensor([[0, 0, 0],\n",
            "        [0, 0, 0],\n",
            "        [0, 0, 0],\n",
            "        [0, 0, 0],\n",
            "        [0, 0, 0]])\n"
          ]
        }
      ]
    },
    {
      "cell_type": "code",
      "source": [
        "x = torch.tensor([5.5, 3])\n",
        "print(x)"
      ],
      "metadata": {
        "colab": {
          "base_uri": "https://localhost:8080/"
        },
        "id": "mJpayRb0p9hZ",
        "outputId": "20aa24c6-b43c-4dd1-a312-2fb9ba233000"
      },
      "execution_count": 8,
      "outputs": [
        {
          "output_type": "stream",
          "name": "stdout",
          "text": [
            "tensor([5.5000, 3.0000])\n"
          ]
        }
      ]
    },
    {
      "cell_type": "code",
      "source": [
        "x = x.new_ones(5, 3, dtype=torch.double)\n",
        "print(x)\n",
        "\n",
        "x = torch.randn_like(x, dtype=torch.float)\n",
        "print(x)"
      ],
      "metadata": {
        "colab": {
          "base_uri": "https://localhost:8080/"
        },
        "id": "f14X2QLmqEK7",
        "outputId": "38db6185-9c15-4c9a-ab9d-af2794426acf"
      },
      "execution_count": 9,
      "outputs": [
        {
          "output_type": "stream",
          "name": "stdout",
          "text": [
            "tensor([[1., 1., 1.],\n",
            "        [1., 1., 1.],\n",
            "        [1., 1., 1.],\n",
            "        [1., 1., 1.],\n",
            "        [1., 1., 1.]], dtype=torch.float64)\n",
            "tensor([[ 1.4713,  1.8260, -1.6867],\n",
            "        [ 0.2357,  0.4131, -0.1001],\n",
            "        [ 0.9036, -0.9993, -0.2873],\n",
            "        [ 1.4801, -0.9741,  0.4115],\n",
            "        [-0.5060, -0.6695, -0.0474]])\n"
          ]
        }
      ]
    },
    {
      "cell_type": "code",
      "source": [
        "print(x.size())"
      ],
      "metadata": {
        "colab": {
          "base_uri": "https://localhost:8080/"
        },
        "id": "D5SAtePwqYtZ",
        "outputId": "7aaa2c38-8e1f-475f-af8e-521540f5c7bf"
      },
      "execution_count": 10,
      "outputs": [
        {
          "output_type": "stream",
          "name": "stdout",
          "text": [
            "torch.Size([5, 3])\n"
          ]
        }
      ]
    },
    {
      "cell_type": "code",
      "source": [
        "y = torch.rand(5,3)\n",
        "print(x + y)"
      ],
      "metadata": {
        "colab": {
          "base_uri": "https://localhost:8080/"
        },
        "id": "Q_9EAJ7oqear",
        "outputId": "41f54ed0-25c7-4b8a-a45f-d6e2ab81beab"
      },
      "execution_count": 11,
      "outputs": [
        {
          "output_type": "stream",
          "name": "stdout",
          "text": [
            "tensor([[ 2.4290,  2.1119, -0.9091],\n",
            "        [ 0.7183,  0.4277,  0.0228],\n",
            "        [ 1.4061, -0.5677,  0.4522],\n",
            "        [ 2.1556, -0.4245,  0.4761],\n",
            "        [-0.3166, -0.1710,  0.9147]])\n"
          ]
        }
      ]
    },
    {
      "cell_type": "code",
      "source": [
        "print(torch.add(x, y))"
      ],
      "metadata": {
        "colab": {
          "base_uri": "https://localhost:8080/"
        },
        "id": "HtR80klrqsBZ",
        "outputId": "53160d68-7bd6-4d42-9bcc-72437589dcb0"
      },
      "execution_count": 12,
      "outputs": [
        {
          "output_type": "stream",
          "name": "stdout",
          "text": [
            "tensor([[ 2.4290,  2.1119, -0.9091],\n",
            "        [ 0.7183,  0.4277,  0.0228],\n",
            "        [ 1.4061, -0.5677,  0.4522],\n",
            "        [ 2.1556, -0.4245,  0.4761],\n",
            "        [-0.3166, -0.1710,  0.9147]])\n"
          ]
        }
      ]
    },
    {
      "cell_type": "code",
      "source": [
        "result = torch.empty(5, 3)\n",
        "torch.add(x, y, out=result)\n",
        "print(result)"
      ],
      "metadata": {
        "colab": {
          "base_uri": "https://localhost:8080/"
        },
        "id": "VwTSMaDDqvzN",
        "outputId": "cacbc825-7a51-417a-ac22-980ced665626"
      },
      "execution_count": 13,
      "outputs": [
        {
          "output_type": "stream",
          "name": "stdout",
          "text": [
            "tensor([[ 2.4290,  2.1119, -0.9091],\n",
            "        [ 0.7183,  0.4277,  0.0228],\n",
            "        [ 1.4061, -0.5677,  0.4522],\n",
            "        [ 2.1556, -0.4245,  0.4761],\n",
            "        [-0.3166, -0.1710,  0.9147]])\n"
          ]
        }
      ]
    },
    {
      "cell_type": "code",
      "source": [
        "y.add_(x)\n",
        "print(y)"
      ],
      "metadata": {
        "colab": {
          "base_uri": "https://localhost:8080/"
        },
        "id": "wjkVDgD7q3XZ",
        "outputId": "d75e719c-5038-440f-9ae8-4243cde2b7ac"
      },
      "execution_count": 14,
      "outputs": [
        {
          "output_type": "stream",
          "name": "stdout",
          "text": [
            "tensor([[ 2.4290,  2.1119, -0.9091],\n",
            "        [ 0.7183,  0.4277,  0.0228],\n",
            "        [ 1.4061, -0.5677,  0.4522],\n",
            "        [ 2.1556, -0.4245,  0.4761],\n",
            "        [-0.3166, -0.1710,  0.9147]])\n"
          ]
        }
      ]
    },
    {
      "cell_type": "code",
      "source": [
        "print(x[:, 1])"
      ],
      "metadata": {
        "colab": {
          "base_uri": "https://localhost:8080/"
        },
        "id": "uWzYfsjxq9iC",
        "outputId": "0b4af015-799c-445d-da5a-cef41fa1cfc0"
      },
      "execution_count": 15,
      "outputs": [
        {
          "output_type": "stream",
          "name": "stdout",
          "text": [
            "tensor([ 1.8260,  0.4131, -0.9993, -0.9741, -0.6695])\n"
          ]
        }
      ]
    },
    {
      "cell_type": "code",
      "source": [
        "x = torch.randn(4, 4)\n",
        "y = x.view(16)\n",
        "z = x.view(-1, 8)\n",
        "print(x.size(), y.size(), z.size())"
      ],
      "metadata": {
        "colab": {
          "base_uri": "https://localhost:8080/"
        },
        "id": "ffr7rJrJrVzy",
        "outputId": "d1a9a087-2b16-45a0-c7cc-9018b208c2b7"
      },
      "execution_count": 16,
      "outputs": [
        {
          "output_type": "stream",
          "name": "stdout",
          "text": [
            "torch.Size([4, 4]) torch.Size([16]) torch.Size([2, 8])\n"
          ]
        }
      ]
    },
    {
      "cell_type": "code",
      "source": [
        "x = torch.randn(1)\n",
        "print(x)\n",
        "print(x.item())"
      ],
      "metadata": {
        "colab": {
          "base_uri": "https://localhost:8080/"
        },
        "id": "9gBcSXpjriVU",
        "outputId": "dad8dc8a-fd7d-4946-8f3f-876d19715fb5"
      },
      "execution_count": 17,
      "outputs": [
        {
          "output_type": "stream",
          "name": "stdout",
          "text": [
            "tensor([-1.1366])\n",
            "-1.1366173028945923\n"
          ]
        }
      ]
    },
    {
      "cell_type": "code",
      "source": [
        "a = torch.ones(5)\n",
        "print(a)"
      ],
      "metadata": {
        "colab": {
          "base_uri": "https://localhost:8080/"
        },
        "id": "5WA3uhkTropu",
        "outputId": "96dea9a0-ba78-401c-bfd1-48e14e208982"
      },
      "execution_count": 18,
      "outputs": [
        {
          "output_type": "stream",
          "name": "stdout",
          "text": [
            "tensor([1., 1., 1., 1., 1.])\n"
          ]
        }
      ]
    },
    {
      "cell_type": "code",
      "source": [
        "b = a.numpy()\n",
        "print(b)"
      ],
      "metadata": {
        "colab": {
          "base_uri": "https://localhost:8080/"
        },
        "id": "eaalK2BbruLI",
        "outputId": "7adf88f4-69ba-41ac-f176-f3b46097ae16"
      },
      "execution_count": 19,
      "outputs": [
        {
          "output_type": "stream",
          "name": "stdout",
          "text": [
            "[1. 1. 1. 1. 1.]\n"
          ]
        }
      ]
    },
    {
      "cell_type": "code",
      "source": [
        "a.add_(1)\n",
        "print(a)\n",
        "print(b)"
      ],
      "metadata": {
        "colab": {
          "base_uri": "https://localhost:8080/"
        },
        "id": "rAf7azUxryIt",
        "outputId": "9f1b2b87-d0f7-4e8c-d981-cf327637edae"
      },
      "execution_count": 20,
      "outputs": [
        {
          "output_type": "stream",
          "name": "stdout",
          "text": [
            "tensor([2., 2., 2., 2., 2.])\n",
            "[2. 2. 2. 2. 2.]\n"
          ]
        }
      ]
    },
    {
      "cell_type": "code",
      "source": [
        "import numpy as np\n",
        "a = np.ones(5)\n",
        "b = torch.from_numpy(a)\n",
        "np.add(a, 1, out=a)\n",
        "print(a)\n",
        "print(b)"
      ],
      "metadata": {
        "colab": {
          "base_uri": "https://localhost:8080/"
        },
        "id": "RD1mY7wqr4Bg",
        "outputId": "9c86fa7c-b72d-4e87-c76f-23b013a711e1"
      },
      "execution_count": 21,
      "outputs": [
        {
          "output_type": "stream",
          "name": "stdout",
          "text": [
            "[2. 2. 2. 2. 2.]\n",
            "tensor([2., 2., 2., 2., 2.], dtype=torch.float64)\n"
          ]
        }
      ]
    },
    {
      "cell_type": "code",
      "source": [
        "if torch.cuda.is_available():\n",
        "    device = torch.device(\"cuda\")\n",
        "    y = torch.ones_like(x, device=device)\n",
        "    x = x.to(device)\n",
        "    z = x + y\n",
        "    print(z)\n",
        "    print(z.to(\"cpu\", torch.double))"
      ],
      "metadata": {
        "colab": {
          "base_uri": "https://localhost:8080/"
        },
        "id": "nBuyVKw-sFWM",
        "outputId": "644da1c1-2725-4b16-d6f1-50269c58d901"
      },
      "execution_count": 22,
      "outputs": [
        {
          "output_type": "stream",
          "name": "stdout",
          "text": [
            "tensor([-0.1366], device='cuda:0')\n",
            "tensor([-0.1366], dtype=torch.float64)\n"
          ]
        }
      ]
    },
    {
      "cell_type": "code",
      "source": [
        ""
      ],
      "metadata": {
        "id": "BPxX_wvUsgko"
      },
      "execution_count": null,
      "outputs": []
    }
  ]
}